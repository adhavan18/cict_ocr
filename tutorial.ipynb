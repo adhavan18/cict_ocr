{
 "cells": [
  {
   "cell_type": "markdown",
   "metadata": {},
   "source": [
    "# Text Recognition only"
   ]
  },
  {
   "cell_type": "code",
   "execution_count": null,
   "metadata": {},
   "outputs": [],
   "source": [
    "from ocr_tamil.ocr import OCR\n",
    "image_path = r\"test_images\\1.jpg\" # insert your own path here (step 2 file location)\n",
    "ocr = OCR()\n",
    "texts = ocr.predict(image_path)\n",
    "with open(\"output.txt\",\"w\",encoding=\"utf-8\") as f:\n",
    "    f.write(texts)"
   ]
  },
  {
   "cell_type": "markdown",
   "metadata": {},
   "source": [
    "# Text detection & recognition"
   ]
  },
  {
   "cell_type": "code",
   "execution_count": null,
   "metadata": {},
   "outputs": [],
   "source": [
    "from ocr_tamil.ocr import OCR\n",
    "image_path = r\"test_images\\0.jpg\" # insert your own path here\n",
    "\n",
    "ocr = OCR(detect=True)\n",
    "texts = ocr.predict(image_path)\n",
    "with open(\"output.txt\",\"w\",encoding=\"utf-8\") as f:\n",
    "    f.write(texts)\n"
   ]
  }
 ],
 "metadata": {
  "language_info": {
   "name": "python"
  }
 },
 "nbformat": 4,
 "nbformat_minor": 2
}
